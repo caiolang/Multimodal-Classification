{
 "cells": [
  {
   "cell_type": "markdown",
   "metadata": {},
   "source": [
    "### Audio only\n",
    "This notebook presents the first approach taken, using just audio data and a SVM.\n",
    "\n",
    "The results were used as benchmark to evaluate the final multimodal data model."
   ]
  },
  {
   "cell_type": "code",
   "execution_count": null,
   "metadata": {
    "_cell_guid": "b1076dfc-b9ad-4769-8c92-a6c4dae69d19",
    "_uuid": "8f2839f25d086af736a60e9eeb907d3b93b6e0e5"
   },
   "outputs": [],
   "source": [
    "import numpy as np\n",
    "import pandas as pd\n",
    "\n",
    "datadir = '/kaggle/input/multimodal-classification-2021-mi203'\n",
    "\n",
    "import os\n",
    "\n",
    "# TRAIN DATA\n",
    "\n",
    "train_data = pd.read_csv(os.path.join(datadir,'data/data_train.csv'), delimiter=',', nrows = None)\n",
    "data = np.array(train_data)\n",
    "\n",
    "y_train = data[:,-1].astype('int32')\n",
    "\n",
    "audio_train = data[:, 1:-1]\n",
    "\n",
    "img_list_train = train_data['IMAGE']\n",
    "\n",
    "# TEST DATA\n",
    "\n",
    "test_data = pd.read_csv(os.path.join(datadir,'data/data_test_novt.csv'), delimiter=',', nrows = None)\n",
    "data = np.array(test_data)\n",
    "\n",
    "audio_test = np.array(data[:, 1:], dtype='float64')\n",
    "\n",
    "img_list_test = test_data['IMAGE']\n",
    "\n"
   ]
  },
  {
   "cell_type": "code",
   "execution_count": null,
   "metadata": {},
   "outputs": [],
   "source": [
    "print(audio_train.shape)"
   ]
  },
  {
   "cell_type": "code",
   "execution_count": null,
   "metadata": {},
   "outputs": [],
   "source": [
    "#====================================================================\n",
    "# 1. Data preprocessing: Scaling and separation of train and test sets\n",
    "\n",
    "import numpy as np\n",
    "import matplotlib.pyplot as plt\n",
    "import random\n",
    "import optuna\n",
    "\n",
    "from sklearn.model_selection import train_test_split\n",
    "from sklearn import preprocessing\n",
    "\n",
    "# Normalisation des données audio\n",
    "scaler = preprocessing.StandardScaler().fit(audio_train)\n",
    "audio_train_scaled = scaler.transform(audio_train)\n",
    "\n",
    "# Séparation des données en apprentissage et test\n",
    "Xn, Xv, yn, yv = train_test_split(audio_train_scaled, y_train,random_state=42,test_size=0.2)\n",
    "\n",
    "\n"
   ]
  },
  {
   "cell_type": "code",
   "execution_count": null,
   "metadata": {},
   "outputs": [],
   "source": [
    "#====================================================================\n",
    "# 2. Hyperparameter optimization\n",
    "\n",
    "# -----------------------------------------------------------------------------------------------------------------------------------------------\n",
    "# Attempt to optimize hyperparameters \"manually\", checking the precision on train and test sets for different values of C (regularity of the SVM)\n",
    "# -----------------------------------------------------------------------------------------------------------------------------------------------\n",
    "\n",
    "from sklearn import svm\n",
    "C_test = np.logspace(-1,1.2,15)\n",
    "\n",
    "for i in C_test:\n",
    "    svc = svm.SVC(kernel='rbf', max_iter=-1, verbose = True, C=i)\n",
    "    svc.fit(Xn, yn)\n",
    "    score_train = svc.score(Xn, yn)\n",
    "    score_test = svc.score(Xv, yv)\n",
    "    print(\"C:\" , i, \" | Taux de reco = {:.2f}% / {:.2f}%\".format(score_train*100, score_test*100),\" | Rapport = {:.3f}\".format(score_train/score_test))\n",
    "    \n",
    "# A good value apparently is C=2.6\n",
    "# Good values must have high precision on both train and test sets (low variance), without a great difference between them (low bias)"
   ]
  },
  {
   "cell_type": "code",
   "execution_count": null,
   "metadata": {},
   "outputs": [],
   "source": [
    "print(\"Taux de reco = {:.2f}% / {:.2f}%\".format(score_train*100, score_test*100))\n",
    "print(y_pred)"
   ]
  },
  {
   "cell_type": "code",
   "execution_count": null,
   "metadata": {},
   "outputs": [],
   "source": [
    "#====================================================================\n",
    "# 2. Final learning (SVM)\n",
    "\n",
    "# -----------------------------------------------------------------------------\n",
    "# Using the FULL data and the hyperparameters found in the optimization process\n",
    "# -----------------------------------------------------------------------------\n",
    "\n",
    "import numpy as np\n",
    "import matplotlib.pyplot as plt\n",
    "import random\n",
    "\n",
    "# Normalisation des données audio\n",
    "from sklearn import preprocessing\n",
    "\n",
    "scaler = preprocessing.StandardScaler().fit(audio_train)\n",
    "\n",
    "audio_train_scaled = scaler.transform(audio_train)\n",
    "\n",
    "#====================================================================\n",
    "\n",
    "from sklearn import svm\n",
    "\n",
    "# Creating SVM with RBF kernel\n",
    "svc = svm.SVC(kernel='rbf', max_iter=-1, verbose = True, C=2.6)\n",
    "\n",
    "# Fitting SVM to all training data\n",
    "svc.fit(audio_train_scaled, y_train)\n",
    "\n",
    "# Prediction\n",
    "y_pred = svc.predict(scaler.transform(audio_test))"
   ]
  },
  {
   "cell_type": "code",
   "execution_count": null,
   "metadata": {},
   "outputs": [],
   "source": [
    "print(y_pred.shape)\n",
    "print(y_pred)"
   ]
  },
  {
   "cell_type": "code",
   "execution_count": null,
   "metadata": {},
   "outputs": [],
   "source": [
    "#====================================================================\n",
    "# Création du ficher de soumission\n",
    "\n",
    "submission = pd.DataFrame({'CLASS':y_pred})\n",
    "submission=submission.reset_index()\n",
    "submission = submission.rename(columns={'index': 'Id'})\n",
    "\n",
    "#======================================================================\n",
    "# Sauvegarde du fichier\n",
    "submission.to_csv('audio_submission_v3.csv', index=False)\n"
   ]
  }
 ],
 "metadata": {
  "kernelspec": {
   "display_name": "Python 3",
   "language": "python",
   "name": "python3"
  },
  "language_info": {
   "codemirror_mode": {
    "name": "ipython",
    "version": 3
   },
   "file_extension": ".py",
   "mimetype": "text/x-python",
   "name": "python",
   "nbconvert_exporter": "python",
   "pygments_lexer": "ipython3",
   "version": "3.8.8"
  }
 },
 "nbformat": 4,
 "nbformat_minor": 4
}
